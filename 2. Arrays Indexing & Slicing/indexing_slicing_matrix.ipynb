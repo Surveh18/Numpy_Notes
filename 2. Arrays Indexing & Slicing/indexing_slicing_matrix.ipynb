{
 "cells": [
  {
   "cell_type": "markdown",
   "id": "afc24122",
   "metadata": {},
   "source": [
    "## 📘 NumPy Indexing & Slicing (2D Arrays / Matrices)"
   ]
  },
  {
   "cell_type": "code",
   "execution_count": 1,
   "id": "9baa5379",
   "metadata": {},
   "outputs": [],
   "source": [
    "import numpy as np"
   ]
  },
  {
   "cell_type": "markdown",
   "id": "ce342abc",
   "metadata": {},
   "source": [
    "### 1. `Basic Indexing`\n",
    "- Syntax: arr[row, col]\n",
    "- Works like accessing rows & columns in a grid.\n"
   ]
  },
  {
   "cell_type": "code",
   "execution_count": 2,
   "id": "228d9a49",
   "metadata": {},
   "outputs": [
    {
     "name": "stdout",
     "output_type": "stream",
     "text": [
      "10\n",
      "60\n",
      "90\n"
     ]
    }
   ],
   "source": [
    "matrix = np.array([[10, 20, 30],\n",
    "                   [40, 50, 60],\n",
    "                   [70, 80, 90]])\n",
    "\n",
    "print(matrix[0, 0])   # element at 1st row, 1st col\n",
    "print(matrix[1, 2])   # element at 2nd row, 3rd col\n",
    "print(matrix[-1, -1]) # last element\n"
   ]
  },
  {
   "cell_type": "markdown",
   "id": "cf2f016a",
   "metadata": {},
   "source": [
    "### 2. `Row & Column Access`\n",
    "- Use `:` to select entire row/column.\n"
   ]
  },
  {
   "cell_type": "code",
   "execution_count": 3,
   "id": "4d5bcab4",
   "metadata": {},
   "outputs": [
    {
     "name": "stdout",
     "output_type": "stream",
     "text": [
      "[10 20 30]\n",
      "[20 50 80]\n"
     ]
    }
   ],
   "source": [
    "print(matrix[0, :])   # 1st row\n",
    "print(matrix[:, 1])   # 2nd column\n"
   ]
  },
  {
   "cell_type": "markdown",
   "id": "eea88eef",
   "metadata": {},
   "source": [
    "### 3. `Slicing Sub-matrices`\n",
    "- Syntax: arr[row_start:row_end , col_start:col_end]\n"
   ]
  },
  {
   "cell_type": "code",
   "execution_count": 4,
   "id": "c24e12ee",
   "metadata": {},
   "outputs": [
    {
     "name": "stdout",
     "output_type": "stream",
     "text": [
      "[[20 30]\n",
      " [50 60]]\n"
     ]
    }
   ],
   "source": [
    "print(matrix[0:2, 1:3])   # top-left 2x2 block (rows 0-1, cols 1-2)"
   ]
  },
  {
   "cell_type": "markdown",
   "id": "0a465251",
   "metadata": {},
   "source": [
    "### 4. `Fancy Indexing`\n",
    "- Select multiple rows/columns using lists of indices."
   ]
  },
  {
   "cell_type": "code",
   "execution_count": 5,
   "id": "6568690e",
   "metadata": {},
   "outputs": [
    {
     "name": "stdout",
     "output_type": "stream",
     "text": [
      "[20 90]\n",
      "[[10 20 30]\n",
      " [70 80 90]]\n"
     ]
    }
   ],
   "source": [
    "print(matrix[[0, 2], [1, 2]])   # (0,1) and (2,2)\n",
    "print(matrix[[0, 2], :])        # rows 0 and 2"
   ]
  },
  {
   "cell_type": "markdown",
   "id": "ac4ff31b",
   "metadata": {},
   "source": [
    "### 5. `Boolean Indexing`\n",
    "- Apply conditions to filter values in matrix."
   ]
  },
  {
   "cell_type": "code",
   "execution_count": 6,
   "id": "2f94949d",
   "metadata": {},
   "outputs": [
    {
     "name": "stdout",
     "output_type": "stream",
     "text": [
      "[60 70 80 90]\n"
     ]
    }
   ],
   "source": [
    "print(matrix[matrix > 50])   # all elements greater than 50"
   ]
  },
  {
   "cell_type": "markdown",
   "id": "5bbfe4d3",
   "metadata": {},
   "source": [
    "✅ Summary\n",
    "| Type                  | Example                   | Meaning                                    |\n",
    "|-----------------------|---------------------------|--------------------------------------------|\n",
    "| Single element        | matrix[1,2]              | element at 2nd row, 3rd col                |\n",
    "| Row access            | matrix[0, :]             | full 1st row                               |\n",
    "| Column access         | matrix[:, 1]             | full 2nd column                            |\n",
    "| Sub-matrix slicing    | matrix[0:2, 1:3]         | rows 0-1, cols 1-2                         |\n",
    "| Fancy indexing        | matrix[[0,2], [1,2]]     | elements at (0,1) & (2,2)                  |\n",
    "| Boolean indexing      | matrix[matrix>50]        | filter values greater than 50              |"
   ]
  }
 ],
 "metadata": {
  "kernelspec": {
   "display_name": "Python 3",
   "language": "python",
   "name": "python3"
  },
  "language_info": {
   "codemirror_mode": {
    "name": "ipython",
    "version": 3
   },
   "file_extension": ".py",
   "mimetype": "text/x-python",
   "name": "python",
   "nbconvert_exporter": "python",
   "pygments_lexer": "ipython3",
   "version": "3.13.3"
  }
 },
 "nbformat": 4,
 "nbformat_minor": 5
}
