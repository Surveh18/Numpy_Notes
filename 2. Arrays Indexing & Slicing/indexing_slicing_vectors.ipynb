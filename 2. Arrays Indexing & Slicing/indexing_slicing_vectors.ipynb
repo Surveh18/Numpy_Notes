{
 "cells": [
  {
   "cell_type": "markdown",
   "id": "afc24122",
   "metadata": {},
   "source": [
    "## 📘 NumPy Indexing & Slicing (vectors (1D arrays))."
   ]
  },
  {
   "cell_type": "code",
   "execution_count": 1,
   "id": "9baa5379",
   "metadata": {},
   "outputs": [],
   "source": [
    "import numpy as np"
   ]
  },
  {
   "cell_type": "markdown",
   "id": "ce342abc",
   "metadata": {},
   "source": [
    "### 1. `Indexing in NumPy`\n",
    "- Indexing starts from 0 (like Python lists).\n",
    "- Negative indexing is allowed (from the end).\n",
    "- Syntax: arr[index]"
   ]
  },
  {
   "cell_type": "code",
   "execution_count": 2,
   "id": "228d9a49",
   "metadata": {},
   "outputs": [
    {
     "name": "stdout",
     "output_type": "stream",
     "text": [
      "10\n",
      "30\n",
      "50\n"
     ]
    }
   ],
   "source": [
    "arr = np.array([10, 20, 30, 40, 50])\n",
    "\n",
    "print(arr[0])   # First element\n",
    "print(arr[2])   # Third element\n",
    "print(arr[-1])  # Last element\n"
   ]
  },
  {
   "cell_type": "markdown",
   "id": "cf2f016a",
   "metadata": {},
   "source": [
    "### 2. `Slicing in NumPy`\n",
    "- Access a range of elements.\n",
    "- Syntax: arr[start:end:step]\n",
    "- Default:\n",
    "  start = 0\n",
    "  end = length of array\n",
    "  step = 1\n"
   ]
  },
  {
   "cell_type": "code",
   "execution_count": 3,
   "id": "4d5bcab4",
   "metadata": {},
   "outputs": [
    {
     "name": "stdout",
     "output_type": "stream",
     "text": [
      "[20 30 40 50]\n",
      "[10 20 30 40]\n",
      "[40 50 60 70]\n",
      "[10 30 50 70]\n",
      "[70 60 50 40 30 20 10]\n"
     ]
    }
   ],
   "source": [
    "arr = np.array([10, 20, 30, 40, 50, 60, 70])\n",
    "\n",
    "print(arr[1:5])     # elements from index 1 to 4\n",
    "print(arr[:4])      # first 4 elements\n",
    "print(arr[3:])      # from index 3 to end\n",
    "print(arr[::2])     # every 2nd element\n",
    "print(arr[::-1])    # reverse array\n"
   ]
  },
  {
   "cell_type": "markdown",
   "id": "eea88eef",
   "metadata": {},
   "source": [
    "### 3. `Fancy Indexing`\n",
    "- Pass a list/array of indices to access multiple elements at once.\n"
   ]
  },
  {
   "cell_type": "code",
   "execution_count": 5,
   "id": "c24e12ee",
   "metadata": {},
   "outputs": [
    {
     "name": "stdout",
     "output_type": "stream",
     "text": [
      "[10 30 50]\n"
     ]
    }
   ],
   "source": [
    "arr = np.array([10, 20, 30, 40, 50])\n",
    "\n",
    "print(arr[[0, 2, 4]])   # elements at index 0,2,4"
   ]
  },
  {
   "cell_type": "markdown",
   "id": "0a465251",
   "metadata": {},
   "source": [
    "### 4. `Boolean Indexing`\n",
    "- Use conditions to filter elements."
   ]
  },
  {
   "cell_type": "code",
   "execution_count": 6,
   "id": "6568690e",
   "metadata": {},
   "outputs": [
    {
     "name": "stdout",
     "output_type": "stream",
     "text": [
      "[30 40 50]\n",
      "[20 40]\n"
     ]
    }
   ],
   "source": [
    "arr = np.array([10, 20, 30, 40, 50])\n",
    "\n",
    "print(arr[arr > 25])     # elements greater than 25\n",
    "print(arr[arr % 20 == 0])  # multiples of 20"
   ]
  },
  {
   "cell_type": "markdown",
   "id": "5bbfe4d3",
   "metadata": {},
   "source": [
    "✅ Summary\n",
    "| Type             | Syntax / Example         | Meaning                          |\n",
    "|------------------|--------------------------|----------------------------------|\n",
    "| Indexing         | arr[2]                  | Single element (3rd element)     |\n",
    "| Negative index   | arr[-1]                 | Last element                     |\n",
    "| Slicing          | arr[1:5:2]              | From index 1 to 4, step 2        |\n",
    "| Reverse slicing  | arr[::-1]               | Reverse array                    |\n",
    "| Fancy indexing   | arr[[0,2,4]]            | Elements at indices 0,2,4        |\n",
    "| Boolean indexing | arr[arr>25]             | Filter using condition           |"
   ]
  }
 ],
 "metadata": {
  "kernelspec": {
   "display_name": "Python 3",
   "language": "python",
   "name": "python3"
  },
  "language_info": {
   "codemirror_mode": {
    "name": "ipython",
    "version": 3
   },
   "file_extension": ".py",
   "mimetype": "text/x-python",
   "name": "python",
   "nbconvert_exporter": "python",
   "pygments_lexer": "ipython3",
   "version": "3.13.3"
  }
 },
 "nbformat": 4,
 "nbformat_minor": 5
}
