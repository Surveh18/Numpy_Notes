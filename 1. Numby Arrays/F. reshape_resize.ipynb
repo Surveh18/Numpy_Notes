{
 "cells": [
  {
   "cell_type": "markdown",
   "id": "3da65f61",
   "metadata": {},
   "source": [
    "## 📘 Reshaping vs Resizing in NumPy"
   ]
  },
  {
   "cell_type": "code",
   "execution_count": 1,
   "id": "4c51b1af",
   "metadata": {},
   "outputs": [],
   "source": [
    "import numpy as np"
   ]
  },
  {
   "cell_type": "markdown",
   "id": "b775d975",
   "metadata": {},
   "source": [
    "### 1. `reshape() → Change Shape (without changing data)`\n",
    "- Returns a new array with a different shape.\n",
    "- Total number of elements must remain the same.\n",
    "- Does not modify the original array.\n"
   ]
  },
  {
   "cell_type": "code",
   "execution_count": null,
   "id": "f1e3e877",
   "metadata": {},
   "outputs": [
    {
     "data": {
      "text/plain": [
       "array([ 1,  2,  3,  4,  5,  6,  7,  8,  9, 10, 11, 12, 13, 14, 15, 16, 17,\n",
       "       18, 19, 20, 21, 22, 23, 24, 25, 26, 27, 28, 29, 30])"
      ]
     },
     "execution_count": 2,
     "metadata": {},
     "output_type": "execute_result"
    }
   ],
   "source": [
    "arr = np.arange(1, 31)   #generates num 1-30\n",
    "arr"
   ]
  },
  {
   "cell_type": "code",
   "execution_count": null,
   "id": "9b3b6348",
   "metadata": {},
   "outputs": [
    {
     "data": {
      "text/plain": [
       "(30,)"
      ]
     },
     "execution_count": 6,
     "metadata": {},
     "output_type": "execute_result"
    }
   ],
   "source": [
    "# before performing reshape we should know the shape of array\n",
    "arr.shape\n",
    "# means there are 30 values\n",
    "# so 5 rows x 5 columns = 25 (not possible)\n",
    "# 6 rows X 5 columns = 30 (possible)"
   ]
  },
  {
   "cell_type": "code",
   "execution_count": 7,
   "id": "60f8d7e9",
   "metadata": {},
   "outputs": [
    {
     "data": {
      "text/plain": [
       "array([[ 1,  2,  3,  4,  5],\n",
       "       [ 6,  7,  8,  9, 10],\n",
       "       [11, 12, 13, 14, 15],\n",
       "       [16, 17, 18, 19, 20],\n",
       "       [21, 22, 23, 24, 25],\n",
       "       [26, 27, 28, 29, 30]])"
      ]
     },
     "execution_count": 7,
     "metadata": {},
     "output_type": "execute_result"
    }
   ],
   "source": [
    "arr.reshape(6,5)"
   ]
  },
  {
   "cell_type": "markdown",
   "id": "9bdbfed3",
   "metadata": {},
   "source": [
    "### 2. `np.resize() (function) → Change Shape, Repeat/Truncate Data`\n",
    "- Changes the shape of array.\n",
    "- If new size > old size → repeats data.\n",
    "- If new size < old size → truncates data.\n"
   ]
  },
  {
   "cell_type": "code",
   "execution_count": 8,
   "id": "0bab3da2",
   "metadata": {},
   "outputs": [
    {
     "name": "stdout",
     "output_type": "stream",
     "text": [
      "Original: [1 2 3 4]\n",
      "Resized:\n",
      " [[1 2 3]\n",
      " [4 1 2]\n",
      " [3 4 1]]\n"
     ]
    }
   ],
   "source": [
    "arr = np.array([1, 2, 3, 4])\n",
    "resized = np.resize(arr, (3, 3))\n",
    "\n",
    "print(\"Original:\", arr)\n",
    "print(\"Resized:\\n\", resized)"
   ]
  },
  {
   "cell_type": "markdown",
   "id": "2bbe43dc",
   "metadata": {},
   "source": [
    "### 3. `arr.resize() (method) → In-place Resize`\n",
    "- Works like `np.resize()`.\n",
    "- Modifies the original array directly (in-place).\n"
   ]
  },
  {
   "cell_type": "code",
   "execution_count": 9,
   "id": "c97d8d68",
   "metadata": {},
   "outputs": [
    {
     "name": "stdout",
     "output_type": "stream",
     "text": [
      "[[1 2]\n",
      " [3 4]]\n"
     ]
    }
   ],
   "source": [
    "arr = np.array([1, 2, 3, 4])\n",
    "arr.resize((2, 2))\n",
    "print(arr)"
   ]
  },
  {
   "cell_type": "markdown",
   "id": "37404d0d",
   "metadata": {},
   "source": [
    "✅ Summary\n",
    "| Function        | Works how?                            | Allows size change? | Returns new array? |\n",
    "|-----------------|---------------------------------------|---------------------|--------------------|\n",
    "| reshape()       | Change shape (same data size only)    | ❌ No               | ✅ Yes (view/copy) |\n",
    "| np.resize()     | Change shape, repeat/truncate values  | ✅ Yes              | ✅ Yes             |\n",
    "| arr.resize()    | Same as np.resize but in-place        | ✅ Yes              | ❌ No (in-place)   |\n"
   ]
  }
 ],
 "metadata": {
  "kernelspec": {
   "display_name": "Python 3",
   "language": "python",
   "name": "python3"
  },
  "language_info": {
   "codemirror_mode": {
    "name": "ipython",
    "version": 3
   },
   "file_extension": ".py",
   "mimetype": "text/x-python",
   "name": "python",
   "nbconvert_exporter": "python",
   "pygments_lexer": "ipython3",
   "version": "3.13.3"
  }
 },
 "nbformat": 4,
 "nbformat_minor": 5
}
