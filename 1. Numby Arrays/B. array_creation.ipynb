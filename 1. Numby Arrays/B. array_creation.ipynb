{
 "cells": [
  {
   "cell_type": "code",
   "execution_count": 3,
   "id": "54948470",
   "metadata": {},
   "outputs": [],
   "source": [
    "import numpy as np"
   ]
  },
  {
   "cell_type": "code",
   "execution_count": 9,
   "id": "35544313",
   "metadata": {},
   "outputs": [
    {
     "name": "stdout",
     "output_type": "stream",
     "text": [
      "Integer array: [1 2 3 4]\n"
     ]
    }
   ],
   "source": [
    "# ✅ Basic array creation with integers\n",
    "arr = np.array([1, 2, 3, 4])\n",
    "print(\"Integer array:\", arr)"
   ]
  },
  {
   "cell_type": "code",
   "execution_count": 14,
   "id": "6aa0e832",
   "metadata": {},
   "outputs": [
    {
     "name": "stdout",
     "output_type": "stream",
     "text": [
      "Original list (mixed types): [1, 2, 3, 'hello']\n",
      "Converted NumPy array: ['1' '2' '3' 'hello']\n"
     ]
    }
   ],
   "source": [
    "# ⚠️ Mixed data types: int + str → all elements converted to string\n",
    "a = [1, 2, 3, 'hello']\n",
    "print(f\"Original list (mixed types): {a}\")\n",
    "print(f\"Converted NumPy array: {np.array(a)}\")\n",
    "# NumPy promotes all elements to the most general type (string here)"
   ]
  },
  {
   "cell_type": "code",
   "execution_count": 12,
   "id": "b2b34d7f",
   "metadata": {},
   "outputs": [
    {
     "name": "stdout",
     "output_type": "stream",
     "text": [
      "Original list (int + float): [1, 2, 3.45]\n",
      "Converted NumPy array:[1.   2.   3.45]\n"
     ]
    }
   ],
   "source": [
    "# ⚠️ Mixed numeric types: int + float → all elements converted to float\n",
    "a = [1, 2, 3.45]\n",
    "print(f\"Original list (int + float): {a}\")\n",
    "print(f\"Converted NumPy array:{np.array(a)}\")\n",
    "# NumPy promotes to float for consistency and performance"
   ]
  },
  {
   "cell_type": "markdown",
   "id": "e37787c5",
   "metadata": {},
   "source": [
    "## 🧠 Key Concepts to Remember\n",
    "\n",
    "- **Homogeneous Data**  \n",
    "  NumPy arrays are optimized for numerical operations, so they enforce a single data type across all elements.\n",
    "\n",
    "- **Type Promotion**  \n",
    "  - If mixed types are present, NumPy promotes to the most flexible type (e.g., `str > float > int`).  \n",
    "  - This process is called **upcasting**, and it ensures consistent memory layout and performance.\n",
    "\n",
    "- **Performance Boost**  \n",
    "  NumPy arrays are backed by C, making them significantly faster and more memory-efficient than Python lists—especially for large-scale numerical tasks.\n",
    "\n",
    "- **Why It Matters**  \n",
    "  Understanding type promotion helps avoid unexpected behavior in calculations, data preprocessing, or machine learning pipelines."
   ]
  },
  {
   "cell_type": "markdown",
   "id": "4ffc43b3",
   "metadata": {},
   "source": [
    "### Row Vector (1D Array)\n",
    "\n",
    "A row vector is represented as a 1D NumPy array.\n"
   ]
  },
  {
   "cell_type": "code",
   "execution_count": 20,
   "id": "ad9c19c6",
   "metadata": {},
   "outputs": [
    {
     "name": "stdout",
     "output_type": "stream",
     "text": [
      "row_vector = [1 2 3]\n",
      "row_vector shape = (3,)\n"
     ]
    }
   ],
   "source": [
    "row_vector = np.array([1, 2, 3])\n",
    "print(f\"row_vector = {row_vector}\")\n",
    "print(f\"row_vector shape = {row_vector.shape}\")\n"
   ]
  },
  {
   "cell_type": "markdown",
   "id": "de56d22b",
   "metadata": {},
   "source": [
    "### Matrix (2D Array)\n",
    "\n",
    "A matrix is represented as a 2D NumPy array (rows × columns).\n"
   ]
  },
  {
   "cell_type": "code",
   "execution_count": 3,
   "id": "cc9d8d5e",
   "metadata": {},
   "outputs": [
    {
     "data": {
      "text/plain": [
       "array([[1, 2, 3],\n",
       "       [4, 5, 6],\n",
       "       [7, 8, 9]])"
      ]
     },
     "execution_count": 3,
     "metadata": {},
     "output_type": "execute_result"
    }
   ],
   "source": [
    "# Python nested list / multidimensional list but this is not supported by list\n",
    "l = [[1, 2, 3],\n",
    "     [4, 5, 6],\n",
    "     [7, 8, 9]]\n",
    "\n",
    "# Convert to numpy array (matrix)\n",
    "matrix = np.array(l)\n",
    "matrix"
   ]
  },
  {
   "cell_type": "code",
   "execution_count": 18,
   "id": "8b9702db",
   "metadata": {},
   "outputs": [
    {
     "data": {
      "text/plain": [
       "(3, 3)"
      ]
     },
     "execution_count": 18,
     "metadata": {},
     "output_type": "execute_result"
    }
   ],
   "source": [
    "matrix.shape"
   ]
  },
  {
   "cell_type": "markdown",
   "id": "ee4e5bff",
   "metadata": {},
   "source": [
    "### Column Vector (2D Array with 1 column)\n",
    "\n",
    "A column vector is represented as a 2D NumPy array with shape (n, 1).\n"
   ]
  },
  {
   "cell_type": "code",
   "execution_count": 24,
   "id": "e30291a7",
   "metadata": {},
   "outputs": [
    {
     "name": "stdout",
     "output_type": "stream",
     "text": [
      "[[1]\n",
      " [2]\n",
      " [3]]\n",
      "col_vector shape = (3, 1)\n"
     ]
    }
   ],
   "source": [
    "col_vector = np.array([[1],\n",
    "                       [2],\n",
    "                       [3]])\n",
    "print(f\"{col_vector}\")\n",
    "print(f\"col_vector shape = {col_vector.shape}\")"
   ]
  },
  {
   "cell_type": "markdown",
   "id": "1a3897ca",
   "metadata": {},
   "source": [
    "## ✅ Summary\n",
    "- `np.array([...])` → Row Vector (1D)  \n",
    "- `np.array([[...], [...]])` → Matrix (2D)  \n",
    "- `np.array([[...],[...],[...]])` → Column Vector (2D with 1 column)  \n"
   ]
  },
  {
   "cell_type": "markdown",
   "id": "1495c7cf",
   "metadata": {},
   "source": [
    "| Type             | Example                          | Shape   | ndim | Meaning in NumPy           |\n",
    "|------------------|----------------------------------|---------|------|----------------------------|\n",
    "| 1D Vector        | np.array([1,2,3])               | (3,)    | 1    | Just a vector (by conv. row)|\n",
    "| 2D Row Vector    | np.array([[1,2,3]])             | (1,3)   | 2    | One row, many cols          |\n",
    "| 2D Column Vector | np.array([[1],[2],[3]])         | (3,1)   | 2    | Many rows, one col          |\n",
    "| Matrix           | np.array([[1,2,3],[4,5,6]])     | (2,3)   | 2    | m rows, n cols              |\n",
    "| Tensor (3D)      | np.arange(24).reshape(2,3,4)    | (2,3,4) | 3    | 3D array (stack of matrices)|\n"
   ]
  }
 ],
 "metadata": {
  "kernelspec": {
   "display_name": "Python 3",
   "language": "python",
   "name": "python3"
  },
  "language_info": {
   "codemirror_mode": {
    "name": "ipython",
    "version": 3
   },
   "file_extension": ".py",
   "mimetype": "text/x-python",
   "name": "python",
   "nbconvert_exporter": "python",
   "pygments_lexer": "ipython3",
   "version": "3.13.3"
  }
 },
 "nbformat": 4,
 "nbformat_minor": 5
}
