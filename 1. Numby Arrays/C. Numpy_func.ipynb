{
 "cells": [
  {
   "cell_type": "markdown",
   "id": "4a3afdeb",
   "metadata": {},
   "source": [
    "## 📘 NumPy Array Generation Functions"
   ]
  },
  {
   "cell_type": "code",
   "execution_count": 1,
   "id": "61f7d971",
   "metadata": {},
   "outputs": [],
   "source": [
    "import numpy as np"
   ]
  },
  {
   "cell_type": "markdown",
   "id": "b02099df",
   "metadata": {},
   "source": [
    "### 1. `np.array()`\n",
    "\n",
    "Convert Python list/tuple into NumPy array.\n"
   ]
  },
  {
   "cell_type": "code",
   "execution_count": null,
   "id": "1383b2df",
   "metadata": {},
   "outputs": [
    {
     "data": {
      "text/plain": [
       "array([1, 2, 3, 4, 5])"
      ]
     },
     "metadata": {},
     "output_type": "display_data"
    }
   ],
   "source": [
    "arr = np.array([1, 2, 3, 4, 5])\n",
    "arr"
   ]
  },
  {
   "cell_type": "markdown",
   "id": "e97d1f8f",
   "metadata": {},
   "source": [
    "### 2. `np.zeros()`\n",
    "\n",
    "Creates an array filled with **0s**.\n"
   ]
  },
  {
   "cell_type": "code",
   "execution_count": null,
   "id": "35f0bf05",
   "metadata": {},
   "outputs": [],
   "source": [
    "\"\"\"\n",
    "Visual:\n",
    "   Col1  Col2  Col3\n",
    "Row1   1     2     3\n",
    "Row2   4     5     6\n",
    "Row3   7     8     9\n",
    "\"\"\""
   ]
  },
  {
   "cell_type": "code",
   "execution_count": null,
   "id": "ef87ad02",
   "metadata": {},
   "outputs": [
    {
     "data": {
      "text/plain": [
       "array([[0., 0., 0.],\n",
       "       [0., 0., 0.]])"
      ]
     },
     "metadata": {},
     "output_type": "display_data"
    }
   ],
   "source": [
    "np.zeros((2, 3)) # 2- rows, 3 - columns"
   ]
  },
  {
   "cell_type": "markdown",
   "id": "3f91ce58",
   "metadata": {},
   "source": [
    "### 3. `np.ones()`\n",
    "\n",
    "Creates an array filled with **1s**.\n"
   ]
  },
  {
   "cell_type": "code",
   "execution_count": null,
   "id": "af7390d3",
   "metadata": {},
   "outputs": [
    {
     "data": {
      "text/plain": [
       "array([[1., 1.],\n",
       "       [1., 1.],\n",
       "       [1., 1.]])"
      ]
     },
     "metadata": {},
     "output_type": "display_data"
    }
   ],
   "source": [
    "np.ones((3, 2))"
   ]
  },
  {
   "cell_type": "markdown",
   "id": "007ebda2",
   "metadata": {},
   "source": [
    "### 4. `np.full()`\n",
    "\n",
    "Creates an array filled with a **specific value**.\n"
   ]
  },
  {
   "cell_type": "code",
   "execution_count": null,
   "id": "5b55e165",
   "metadata": {},
   "outputs": [
    {
     "data": {
      "text/plain": [
       "array([[7, 7, 7],\n",
       "       [7, 7, 7]])"
      ]
     },
     "metadata": {},
     "output_type": "display_data"
    }
   ],
   "source": [
    "np.full((2, 3), 7)"
   ]
  },
  {
   "cell_type": "markdown",
   "id": "4f215ad1",
   "metadata": {},
   "source": [
    "### 5. `np.arange()`\n",
    "\n",
    "Creates an array with values in a **range (like Python range)**.\n"
   ]
  },
  {
   "cell_type": "code",
   "execution_count": null,
   "id": "13eb792f",
   "metadata": {},
   "outputs": [
    {
     "data": {
      "text/plain": [
       "array([0, 2, 4, 6, 8])"
      ]
     },
     "metadata": {},
     "output_type": "display_data"
    }
   ],
   "source": [
    "np.arange(0, 10, 2)   # start=0, stop=10, step=2"
   ]
  },
  {
   "cell_type": "markdown",
   "id": "b4a32c29",
   "metadata": {},
   "source": [
    "### 6. `np.linspace()`\n",
    "\n",
    "Creates an array with **n evenly spaced values** between start and end.\n"
   ]
  },
  {
   "cell_type": "code",
   "execution_count": null,
   "id": "631336d5",
   "metadata": {},
   "outputs": [
    {
     "data": {
      "text/plain": [
       "array([0.  , 0.25, 0.5 , 0.75, 1.  ])"
      ]
     },
     "execution_count": 2,
     "metadata": {},
     "output_type": "execute_result"
    }
   ],
   "source": [
    "np.linspace(0, 1, 5) \n",
    "# range 0-1\n",
    "# 5 number of elements we want now see the output\n",
    "#linspace means linear_space"
   ]
  },
  {
   "cell_type": "markdown",
   "id": "a367081b",
   "metadata": {},
   "source": [
    "### 7. `np.eye()`\n",
    "\n",
    "Creates an **identity matrix** (1s on diagonal).\n"
   ]
  },
  {
   "cell_type": "code",
   "execution_count": 3,
   "id": "1e2501e4",
   "metadata": {},
   "outputs": [
    {
     "data": {
      "text/plain": [
       "array([[1., 0., 0.],\n",
       "       [0., 1., 0.],\n",
       "       [0., 0., 1.]])"
      ]
     },
     "execution_count": 3,
     "metadata": {},
     "output_type": "execute_result"
    }
   ],
   "source": [
    "np.eye(3)"
   ]
  },
  {
   "cell_type": "markdown",
   "id": "8aaf5733",
   "metadata": {},
   "source": [
    "### 8. `np.random.rand()`\n",
    "\n",
    "Creates an array of random numbers between **0 and 1**.\n"
   ]
  },
  {
   "cell_type": "code",
   "execution_count": null,
   "id": "6f440ef9",
   "metadata": {},
   "outputs": [
    {
     "data": {
      "text/plain": [
       "array([[0.81112309, 0.51283409, 0.66393331],\n",
       "       [0.64427735, 0.77132999, 0.86751424]])"
      ]
     },
     "execution_count": 4,
     "metadata": {},
     "output_type": "execute_result"
    }
   ],
   "source": [
    "np.random.rand(2, 3)\n",
    "# As u can see in the output all the values between 0 & 1 this concept is know as normalization in statistics.\n",
    "# Values between 3 to -3 - standarization\n",
    "# Values between 0 to 1 - normalization "
   ]
  },
  {
   "cell_type": "markdown",
   "id": "b0524154",
   "metadata": {},
   "source": [
    "### 9. `np.random.randint()`\n",
    "\n",
    "Creates an array of random **integers** within a given range.\n"
   ]
  },
  {
   "cell_type": "code",
   "execution_count": 5,
   "id": "702ecc0d",
   "metadata": {},
   "outputs": [
    {
     "data": {
      "text/plain": [
       "array([[9, 6, 7],\n",
       "       [4, 4, 7]], dtype=int32)"
      ]
     },
     "execution_count": 5,
     "metadata": {},
     "output_type": "execute_result"
    }
   ],
   "source": [
    "np.random.randint(1, 10, (2, 3))  # from 1 to 9"
   ]
  },
  {
   "cell_type": "markdown",
   "id": "4802e267",
   "metadata": {},
   "source": [
    "## ⚡ Summary Table\n",
    "| Function            | Description                          |\n",
    "|---------------------|--------------------------------------|\n",
    "| np.array()          | Convert list/tuple → array          |\n",
    "| np.zeros()          | Array of 0s                         |\n",
    "| np.ones()           | Array of 1s                         |\n",
    "| np.full()           | Array with a constant value         |\n",
    "| np.arange()         | Range with step (like Python range) |\n",
    "| np.linspace()       | n evenly spaced values              |\n",
    "| np.eye()            | Identity matrix                     |\n",
    "| np.random.rand()    | Random floats (0 to 1)              |\n",
    "| np.random.randint() | Random integers in a range          |"
   ]
  }
 ],
 "metadata": {
  "kernelspec": {
   "display_name": "Python 3",
   "language": "python",
   "name": "python3"
  },
  "language_info": {
   "codemirror_mode": {
    "name": "ipython",
    "version": 3
   },
   "file_extension": ".py",
   "mimetype": "text/x-python",
   "name": "python",
   "nbconvert_exporter": "python",
   "pygments_lexer": "ipython3",
   "version": "3.13.3"
  }
 },
 "nbformat": 4,
 "nbformat_minor": 5
}
