{
 "cells": [
  {
   "cell_type": "markdown",
   "id": "4bf8702c",
   "metadata": {},
   "source": [
    "## 📘 NumPy Array Methods"
   ]
  },
  {
   "cell_type": "code",
   "execution_count": 1,
   "id": "fec71a66",
   "metadata": {},
   "outputs": [],
   "source": [
    "import numpy as np"
   ]
  },
  {
   "cell_type": "markdown",
   "id": "bf03d62c",
   "metadata": {},
   "source": [
    "### 1. `reshape() → Shape Change`\n",
    "Reshape an array without changing its data."
   ]
  },
  {
   "cell_type": "code",
   "execution_count": 2,
   "id": "906d7a2c",
   "metadata": {},
   "outputs": [
    {
     "data": {
      "text/plain": [
       "array([[1, 2, 3],\n",
       "       [4, 5, 6]])"
      ]
     },
     "execution_count": 2,
     "metadata": {},
     "output_type": "execute_result"
    }
   ],
   "source": [
    "arr = np.arange(1, 7)   # [1, 2, 3, 4, 5, 6]\n",
    "arr.reshape(2, 3)"
   ]
  },
  {
   "cell_type": "markdown",
   "id": "1c32e319",
   "metadata": {},
   "source": [
    "### 2. `flatten()→ 1D Convert`\n",
    "Converts a multi-dimensional array into 1D.\n"
   ]
  },
  {
   "cell_type": "code",
   "execution_count": 3,
   "id": "e8a167d7",
   "metadata": {},
   "outputs": [
    {
     "data": {
      "text/plain": [
       "array([1, 2, 3, 4, 5, 6])"
      ]
     },
     "execution_count": 3,
     "metadata": {},
     "output_type": "execute_result"
    }
   ],
   "source": [
    "matrix = np.array([[1, 2, 3], [4, 5, 6]])\n",
    "matrix.flatten()"
   ]
  },
  {
   "cell_type": "markdown",
   "id": "3dc691bc",
   "metadata": {},
   "source": [
    "### 3. `ravel() → 1D Convert (View)`\n",
    "Also flattens array, but returns a **view (no copy if possible)**.\n"
   ]
  },
  {
   "cell_type": "code",
   "execution_count": 4,
   "id": "67e3e1df",
   "metadata": {},
   "outputs": [
    {
     "data": {
      "text/plain": [
       "array([1, 2, 3, 4, 5, 6])"
      ]
     },
     "execution_count": 4,
     "metadata": {},
     "output_type": "execute_result"
    }
   ],
   "source": [
    "matrix.ravel()"
   ]
  },
  {
   "cell_type": "markdown",
   "id": "eb633204",
   "metadata": {},
   "source": [
    "### 4. `transpose()` or `.T`\n",
    "Switches rows and columns.\n"
   ]
  },
  {
   "cell_type": "code",
   "execution_count": 5,
   "id": "8bf46db1",
   "metadata": {},
   "outputs": [
    {
     "data": {
      "text/plain": [
       "array([[1, 4],\n",
       "       [2, 5],\n",
       "       [3, 6]])"
      ]
     },
     "execution_count": 5,
     "metadata": {},
     "output_type": "execute_result"
    }
   ],
   "source": [
    "matrix.transpose()"
   ]
  },
  {
   "cell_type": "markdown",
   "id": "2adfcf34",
   "metadata": {},
   "source": [
    "### 5. `sum() → Total / Along Axis`\n",
    "Returns sum of elements (overall or axis-wise).\n"
   ]
  },
  {
   "cell_type": "code",
   "execution_count": null,
   "id": "68effdc0",
   "metadata": {},
   "outputs": [
    {
     "data": {
      "text/plain": [
       "array([5, 7, 9])"
      ]
     },
     "execution_count": 11,
     "metadata": {},
     "output_type": "execute_result"
    }
   ],
   "source": [
    "np.sum(matrix,axis=0)\n",
    "# column-wise sum\n",
    "\"\"\"\n",
    "array([[1, 2, 3],\n",
    "       [4, 5, 6]])\n",
    "1 + 4 = 5\n",
    "2 + 5 = 7\n",
    "3 + 6 = 9\n",
    "\"\"\"\n"
   ]
  },
  {
   "cell_type": "code",
   "execution_count": 15,
   "id": "765dd23c",
   "metadata": {},
   "outputs": [
    {
     "data": {
      "text/plain": [
       "array([ 6, 15])"
      ]
     },
     "execution_count": 15,
     "metadata": {},
     "output_type": "execute_result"
    }
   ],
   "source": [
    "a = np.sum(matrix,axis=1)\n",
    "# row-wise sum\n",
    "'''\n",
    "array([[1, 2, 3],\n",
    "       [4, 5, 6]])\n",
    "1 + 2 + 3 = 6\n",
    "4 + 5 + 6 = 15\n",
    "'''\n",
    "a"
   ]
  },
  {
   "cell_type": "markdown",
   "id": "bcc3c576",
   "metadata": {},
   "source": [
    "### 6. `min()` and `max()`\n",
    "Returns smallest and largest element.\n"
   ]
  },
  {
   "cell_type": "code",
   "execution_count": 23,
   "id": "3941375b",
   "metadata": {},
   "outputs": [
    {
     "name": "stdout",
     "output_type": "stream",
     "text": [
      "Min value = 1\n",
      "Max value = 6\n"
     ]
    }
   ],
   "source": [
    "print(f\"Min value = {matrix.min()}\")\n",
    "print(f\"Max value = {matrix.max()}\")\n"
   ]
  },
  {
   "cell_type": "markdown",
   "id": "ec9409b5",
   "metadata": {},
   "source": [
    "### 7. `argmin()` and `argmax()`\n",
    "Returns index of min and max element.\n"
   ]
  },
  {
   "cell_type": "code",
   "execution_count": 28,
   "id": "c9fd4e48",
   "metadata": {},
   "outputs": [
    {
     "name": "stdout",
     "output_type": "stream",
     "text": [
      "Minimum value in array is at 0 index\n",
      "Maximun value in array is at 5 index\n"
     ]
    }
   ],
   "source": [
    "print(f\"Minimum value in array is at {matrix.argmin()} index\")\n",
    "print(f\"Maximun value in array is at {matrix.argmax()} index\")"
   ]
  },
  {
   "cell_type": "code",
   "execution_count": 29,
   "id": "456f8696",
   "metadata": {},
   "outputs": [
    {
     "name": "stdout",
     "output_type": "stream",
     "text": [
      "Minimum value in array is 1 at index 0\n",
      "Maximum value in array is 6 at index 5\n"
     ]
    }
   ],
   "source": [
    "# Combining both \n",
    "\n",
    "# Find indices\n",
    "min_index = matrix.argmin()\n",
    "max_index = matrix.argmax()\n",
    "\n",
    "# Find values\n",
    "min_value = matrix.min()\n",
    "max_value = matrix.max()\n",
    "\n",
    "print(f\"Minimum value in array is {min_value} at index {min_index}\")\n",
    "print(f\"Maximum value in array is {max_value} at index {max_index}\")"
   ]
  },
  {
   "cell_type": "markdown",
   "id": "981efe17",
   "metadata": {},
   "source": [
    "### 8. `mean()`\n",
    "Average of array elements.\n"
   ]
  },
  {
   "cell_type": "code",
   "execution_count": 33,
   "id": "e2ad7461",
   "metadata": {},
   "outputs": [
    {
     "name": "stdout",
     "output_type": "stream",
     "text": [
      "Matrix mean value =3.5\n"
     ]
    }
   ],
   "source": [
    "print(f\"Matrix mean value ={matrix.mean()}\")\n"
   ]
  },
  {
   "cell_type": "markdown",
   "id": "84a604a7",
   "metadata": {},
   "source": [
    "### 9. `sort()`\n",
    "Returns a sorted copy of the array.\n"
   ]
  },
  {
   "cell_type": "code",
   "execution_count": 38,
   "id": "1a4c1999",
   "metadata": {},
   "outputs": [
    {
     "name": "stdout",
     "output_type": "stream",
     "text": [
      "[1 2 3 4]\n"
     ]
    }
   ],
   "source": [
    "a = np.array([3, 1, 4, 2])\n",
    "a.sort()   # sorts in-place\n",
    "print(a)"
   ]
  },
  {
   "cell_type": "code",
   "execution_count": null,
   "id": "214765e4",
   "metadata": {},
   "outputs": [
    {
     "name": "stdout",
     "output_type": "stream",
     "text": [
      "[1 2 3 4]\n"
     ]
    }
   ],
   "source": [
    "a = np.array([3, 1, 4, 2])\n",
    "b = np.sort(a)   # returns new sorted array\n",
    "print(b)"
   ]
  },
  {
   "cell_type": "code",
   "execution_count": null,
   "id": "67e20a2a",
   "metadata": {},
   "outputs": [],
   "source": [
    "'''\n",
    "👉 Rule yaad rakho:\n",
    "\n",
    "np.sort(arr) → new sorted array return karta hai\n",
    "\n",
    "arr.sort() → inplace sort karta hai, but returns None\n",
    "'''"
   ]
  },
  {
   "cell_type": "markdown",
   "id": "7bc947a6",
   "metadata": {},
   "source": [
    "### 10. `copy()` vs `view()`\n",
    "- `copy()` → Creates new independent array.\n",
    "- `view()` → Creates a new view (changes reflect in original).\n"
   ]
  },
  {
   "cell_type": "code",
   "execution_count": 41,
   "id": "0edb1d08",
   "metadata": {},
   "outputs": [
    {
     "name": "stdout",
     "output_type": "stream",
     "text": [
      "[99  2  3]\n",
      "[1 2 3]\n",
      "[99  2  3]\n"
     ]
    }
   ],
   "source": [
    "a = np.array([1, 2, 3])\n",
    "b = a.copy()\n",
    "c = a.view()\n",
    "\n",
    "a[0] = 99\n",
    "print(a)\n",
    "print(b)\n",
    "print(c)"
   ]
  },
  {
   "cell_type": "markdown",
   "id": "bbcced52",
   "metadata": {},
   "source": [
    "✅ Summary\n",
    "| Method        | Use Case                          |\n",
    "|---------------|-----------------------------------|\n",
    "| reshape()     | Change shape                     |\n",
    "| flatten()     | Convert to 1D (copy)             |\n",
    "| ravel()       | Convert to 1D (view)             |\n",
    "| transpose()   | Switch rows & columns            |\n",
    "| sum()         | Total / row-wise / col-wise sum  |\n",
    "| min(), max()  | Smallest & largest value         |\n",
    "| argmin(),argmax() | Index of min & max value     |\n",
    "| mean()        | Average                          |\n",
    "| sort()        | Sort array                       |\n",
    "| copy(), view()| Copy vs reference                |\n"
   ]
  }
 ],
 "metadata": {
  "kernelspec": {
   "display_name": "Python 3",
   "language": "python",
   "name": "python3"
  },
  "language_info": {
   "codemirror_mode": {
    "name": "ipython",
    "version": 3
   },
   "file_extension": ".py",
   "mimetype": "text/x-python",
   "name": "python",
   "nbconvert_exporter": "python",
   "pygments_lexer": "ipython3",
   "version": "3.13.3"
  }
 },
 "nbformat": 4,
 "nbformat_minor": 5
}
