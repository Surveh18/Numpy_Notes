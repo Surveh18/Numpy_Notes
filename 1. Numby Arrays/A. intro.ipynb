{
 "cells": [
  {
   "cell_type": "markdown",
   "id": "aaf75f41",
   "metadata": {},
   "source": [
    "## === HISTORY ===\n"
   ]
  },
  {
   "cell_type": "markdown",
   "id": "adc05be5",
   "metadata": {},
   "source": [
    "\n",
    "- Python was already powerful with maths compare to other programming languages.\n",
    "comparing with other languages such as JS,C#,C++,Java etc. Python's computational power is very high but it does'nt have array.\n",
    "\n",
    "- To solve this issue in 1995 jim hugunin created Numeric library which provided  array support but performance was not that good.\n",
    "\n",
    "- Now to solve this in early 2000's another library was developed by Space telescope science institute and they named it Numarray. Now what they wanted was the library which they earlier created they want to increase their power but still it was not compatible means the last library was not compatible with Numarray.\n",
    "\n",
    "- In 2005 travis oliphant merged Numeric & Numarray and named it Numpy.\n",
    "\n",
    "- And finally there was arrays in python\n",
    "\n",
    "- Do u know numpy is written in C language which are compiled and superfast. This is the main reason NumPy is upto 50x Faster than python list."
   ]
  },
  {
   "cell_type": "markdown",
   "id": "c1ccd151",
   "metadata": {},
   "source": [
    "##  == Python List vs NumPy Array Comparison ==\n",
    "\n",
    "| **Feature**           | **Python List**           | **NumPy Array**              |\n",
    "|-----------------------|---------------------------|------------------------------|\n",
    "| **Data Type**         | Mixed types allowed       | Same data type only          |\n",
    "| **Performance**       | Slower (interpreted)      | Much faster (C-level speed)  |\n",
    "| **Memory Efficiency** | Low                       | High                         |\n",
    "| **Vector Operations** | Manual loops required     | Easy and fast vectorized ops |"
   ]
  }
 ],
 "metadata": {
  "kernelspec": {
   "display_name": "Python 3",
   "language": "python",
   "name": "python3"
  },
  "language_info": {
   "codemirror_mode": {
    "name": "ipython",
    "version": 3
   },
   "file_extension": ".py",
   "mimetype": "text/x-python",
   "name": "python",
   "nbconvert_exporter": "python",
   "pygments_lexer": "ipython3",
   "version": "3.13.3"
  }
 },
 "nbformat": 4,
 "nbformat_minor": 5
}
