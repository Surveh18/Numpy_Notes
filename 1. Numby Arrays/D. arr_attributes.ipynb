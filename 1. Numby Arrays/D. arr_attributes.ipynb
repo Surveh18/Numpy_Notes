{
 "cells": [
  {
   "cell_type": "markdown",
   "id": "600d0ed7",
   "metadata": {},
   "source": [
    "## 📘 NumPy Array Attributes"
   ]
  },
  {
   "cell_type": "code",
   "execution_count": 1,
   "id": "290621c3",
   "metadata": {},
   "outputs": [],
   "source": [
    "import numpy as np"
   ]
  },
  {
   "cell_type": "markdown",
   "id": "86113f1e",
   "metadata": {},
   "source": [
    "### 1. `ndim`\n",
    "Returns the **number of dimensions** of the array.\n"
   ]
  },
  {
   "cell_type": "code",
   "execution_count": 2,
   "id": "9d08c9e7",
   "metadata": {},
   "outputs": [
    {
     "data": {
      "text/plain": [
       "2"
      ]
     },
     "execution_count": 2,
     "metadata": {},
     "output_type": "execute_result"
    }
   ],
   "source": [
    "arr = np.array([[1, 2, 3], [4, 5, 6]])\n",
    "arr.ndim"
   ]
  },
  {
   "cell_type": "markdown",
   "id": "dd7e150d",
   "metadata": {},
   "source": [
    "### 2. `shape`\n",
    "Returns the **size of each dimension** (rows x columns).\n"
   ]
  },
  {
   "cell_type": "code",
   "execution_count": 4,
   "id": "d8074176",
   "metadata": {},
   "outputs": [
    {
     "data": {
      "text/plain": [
       "(2, 3)"
      ]
     },
     "execution_count": 4,
     "metadata": {},
     "output_type": "execute_result"
    }
   ],
   "source": [
    "arr.shape\n",
    "# Means 2 rows and 3 columns."
   ]
  },
  {
   "cell_type": "markdown",
   "id": "3d1fd366",
   "metadata": {},
   "source": [
    "### 3. `size`\n",
    "Returns the **total number of elements**."
   ]
  },
  {
   "cell_type": "code",
   "execution_count": null,
   "id": "921115fd",
   "metadata": {},
   "outputs": [
    {
     "data": {
      "text/plain": [
       "6"
      ]
     },
     "execution_count": 5,
     "metadata": {},
     "output_type": "execute_result"
    }
   ],
   "source": [
    "arr.size\n",
    "# total 6 elements are present"
   ]
  },
  {
   "cell_type": "markdown",
   "id": "d2e27a52",
   "metadata": {},
   "source": [
    "### 4. `dtype`\n",
    "Returns the **data type** of array elements.\n"
   ]
  },
  {
   "cell_type": "code",
   "execution_count": 6,
   "id": "8f954a5a",
   "metadata": {},
   "outputs": [
    {
     "data": {
      "text/plain": [
       "dtype('int64')"
      ]
     },
     "execution_count": 6,
     "metadata": {},
     "output_type": "execute_result"
    }
   ],
   "source": [
    "arr.dtype"
   ]
  },
  {
   "cell_type": "markdown",
   "id": "c0b70267",
   "metadata": {},
   "source": [
    "### 5. `itemsize`\n",
    "Returns the **memory size (in bytes)** of one element."
   ]
  },
  {
   "cell_type": "code",
   "execution_count": null,
   "id": "74e490cf",
   "metadata": {},
   "outputs": [
    {
     "data": {
      "text/plain": [
       "8"
      ]
     },
     "execution_count": 7,
     "metadata": {},
     "output_type": "execute_result"
    }
   ],
   "source": [
    "arr.itemsize\n",
    "# Each integer = 8 bytes (on 64-bit system)."
   ]
  },
  {
   "cell_type": "markdown",
   "id": "18d42411",
   "metadata": {},
   "source": [
    "### 6. `nbytes`\n",
    "Returns the **total memory (in bytes)** consumed by the array."
   ]
  },
  {
   "cell_type": "code",
   "execution_count": null,
   "id": "cebd88ea",
   "metadata": {},
   "outputs": [
    {
     "data": {
      "text/plain": [
       "48"
      ]
     },
     "execution_count": 8,
     "metadata": {},
     "output_type": "execute_result"
    }
   ],
   "source": [
    "arr.nbytes\n",
    "# 6 elements × 8 bytes = 48."
   ]
  },
  {
   "cell_type": "markdown",
   "id": "cae07965",
   "metadata": {},
   "source": [
    "### 7. `T`\n",
    "Returns the **transpose** of the array (rows ↔ columns)."
   ]
  },
  {
   "cell_type": "code",
   "execution_count": 9,
   "id": "ef81f2b8",
   "metadata": {},
   "outputs": [
    {
     "data": {
      "text/plain": [
       "array([[1, 4],\n",
       "       [2, 5],\n",
       "       [3, 6]])"
      ]
     },
     "execution_count": 9,
     "metadata": {},
     "output_type": "execute_result"
    }
   ],
   "source": [
    "arr.T"
   ]
  },
  {
   "cell_type": "markdown",
   "id": "41aa418e",
   "metadata": {},
   "source": [
    "✅ Summary Table\n",
    "| Attribute | Meaning                                |\n",
    "|-----------|----------------------------------------|\n",
    "| ndim      | Number of dimensions                   |\n",
    "| shape     | Size of array in each dimension        |\n",
    "| size      | Total number of elements               |\n",
    "| dtype     | Data type of elements                  |\n",
    "| itemsize  | Bytes consumed per element             |\n",
    "| nbytes    | Total memory consumed (itemsize*size)  |\n",
    "| T         | Transpose of the array                 |"
   ]
  }
 ],
 "metadata": {
  "kernelspec": {
   "display_name": "Python 3",
   "language": "python",
   "name": "python3"
  },
  "language_info": {
   "codemirror_mode": {
    "name": "ipython",
    "version": 3
   },
   "file_extension": ".py",
   "mimetype": "text/x-python",
   "name": "python",
   "nbconvert_exporter": "python",
   "pygments_lexer": "ipython3",
   "version": "3.13.3"
  }
 },
 "nbformat": 4,
 "nbformat_minor": 5
}
