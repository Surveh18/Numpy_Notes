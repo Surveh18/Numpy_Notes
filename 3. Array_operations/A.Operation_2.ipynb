{
 "cells": [
  {
   "cell_type": "markdown",
   "id": "e6d7a9b7",
   "metadata": {},
   "source": [
    "--- 🔹 7. Cumulative Operations"
   ]
  },
  {
   "cell_type": "code",
   "execution_count": 2,
   "id": "7c573a40",
   "metadata": {},
   "outputs": [
    {
     "name": "stdout",
     "output_type": "stream",
     "text": [
      "Cumulative Sum: [ 1  3  6 10]\n",
      "Cumulative Product: [ 1  2  6 24]\n"
     ]
    }
   ],
   "source": [
    "import numpy as np\n",
    "arr = np.array([1, 2, 3, 4])\n",
    "\n",
    "print(\"Cumulative Sum:\", np.cumsum(arr))   # [ 1  3  6 10]\n",
    "print(\"Cumulative Product:\", np.cumprod(arr)) # [ 1  2  6 24]"
   ]
  },
  {
   "cell_type": "markdown",
   "id": "b4823516",
   "metadata": {},
   "source": [
    "--- 🔹 8. Rounding Functions"
   ]
  },
  {
   "cell_type": "code",
   "execution_count": 3,
   "id": "8738cf31",
   "metadata": {},
   "outputs": [
    {
     "name": "stdout",
     "output_type": "stream",
     "text": [
      "Floor: [1. 2. 3.]\n",
      "Ceil: [2. 3. 4.]\n",
      "Round: [1. 2. 4.]\n"
     ]
    }
   ],
   "source": [
    "arr = np.array([1.2, 2.5, 3.7])\n",
    "\n",
    "print(\"Floor:\", np.floor(arr))   # [1. 2. 3.]\n",
    "print(\"Ceil:\", np.ceil(arr))     # [2. 3. 4.]\n",
    "print(\"Round:\", np.round(arr))   # [1. 2. 4.]"
   ]
  },
  {
   "cell_type": "markdown",
   "id": "3f8eb191",
   "metadata": {},
   "source": [
    "---🔹 9. Stacking Arrays\n",
    "\n",
    "👉 Join multiple arrays together (vertically or horizontally)."
   ]
  },
  {
   "cell_type": "code",
   "execution_count": 4,
   "id": "a6fbfbe9",
   "metadata": {},
   "outputs": [
    {
     "name": "stdout",
     "output_type": "stream",
     "text": [
      "Vertical Stack:\n",
      " [[1 2 3]\n",
      " [4 5 6]]\n",
      "Horizontal Stack:\n",
      " [1 2 3 4 5 6]\n",
      "Column Stack:\n",
      " [[1 4]\n",
      " [2 5]\n",
      " [3 6]]\n"
     ]
    }
   ],
   "source": [
    "a = np.array([1, 2, 3])\n",
    "b = np.array([4, 5, 6])\n",
    "\n",
    "print(\"Vertical Stack:\\n\", np.vstack((a, b)))\n",
    "print(\"Horizontal Stack:\\n\", np.hstack((a, b)))\n",
    "print(\"Column Stack:\\n\", np.column_stack((a, b)))\n"
   ]
  },
  {
   "cell_type": "markdown",
   "id": "d8099a26",
   "metadata": {},
   "source": [
    "--- 🔹 10. Splitting Arrays\n",
    "\n",
    "👉 Break an array into smaller chunks."
   ]
  },
  {
   "cell_type": "code",
   "execution_count": 5,
   "id": "0c840096",
   "metadata": {},
   "outputs": [
    {
     "name": "stdout",
     "output_type": "stream",
     "text": [
      "Split into 3 parts: [array([1, 2]), array([3, 4]), array([5, 6])]\n",
      "Split at indices [2,4]: [array([1, 2]), array([3, 4]), array([5, 6])]\n"
     ]
    }
   ],
   "source": [
    "arr = np.array([1, 2, 3, 4, 5, 6])\n",
    "\n",
    "print(\"Split into 3 parts:\", np.split(arr, 3))\n",
    "print(\"Split at indices [2,4]:\", np.split(arr, [2, 4]))\n"
   ]
  },
  {
   "cell_type": "markdown",
   "id": "593a6d9f",
   "metadata": {},
   "source": [
    "--- 🔹 11. Advanced Array Manipulation"
   ]
  },
  {
   "cell_type": "code",
   "execution_count": 6,
   "id": "d02d36d4",
   "metadata": {},
   "outputs": [
    {
     "name": "stdout",
     "output_type": "stream",
     "text": [
      "Original:\n",
      " [[0 1 2]\n",
      " [3 4 5]\n",
      " [6 7 8]]\n",
      "Transpose:\n",
      " [[0 3 6]\n",
      " [1 4 7]\n",
      " [2 5 8]]\n",
      "Flatten:\n",
      " [0 1 2 3 4 5 6 7 8]\n",
      "Ravel:\n",
      " [0 1 2 3 4 5 6 7 8]\n",
      "Rotate 90°:\n",
      " [[2 5 8]\n",
      " [1 4 7]\n",
      " [0 3 6]]\n",
      "Flip LR:\n",
      " [[2 1 0]\n",
      " [5 4 3]\n",
      " [8 7 6]]\n",
      "Flip UD:\n",
      " [[6 7 8]\n",
      " [3 4 5]\n",
      " [0 1 2]]\n"
     ]
    }
   ],
   "source": [
    "arr = np.arange(9).reshape(3, 3)\n",
    "\n",
    "print(\"Original:\\n\", arr)\n",
    "print(\"Transpose:\\n\", arr.T)            # swap rows and cols\n",
    "print(\"Flatten:\\n\", arr.flatten())      # convert to 1D\n",
    "print(\"Ravel:\\n\", arr.ravel())          # 1D view (faster)\n",
    "print(\"Rotate 90°:\\n\", np.rot90(arr))   # rotate matrix\n",
    "print(\"Flip LR:\\n\", np.fliplr(arr))     # flip left-right\n",
    "print(\"Flip UD:\\n\", np.flipud(arr))     # flip up-down"
   ]
  },
  {
   "cell_type": "markdown",
   "id": "d7a4abca",
   "metadata": {},
   "source": [
    "--- 🔹 12. Copying Arrays (Shallow vs Deep Copy)"
   ]
  },
  {
   "cell_type": "code",
   "execution_count": 7,
   "id": "abcf2b25",
   "metadata": {},
   "outputs": [
    {
     "name": "stdout",
     "output_type": "stream",
     "text": [
      "a (after b change): [100   2   3]\n",
      "a (after c change): [100   2   3]\n"
     ]
    }
   ],
   "source": [
    "a = np.array([1, 2, 3])\n",
    "\n",
    "# Shallow Copy (View) - shares memory\n",
    "b = a.view()\n",
    "b[0] = 100\n",
    "print(\"a (after b change):\", a)   # a also changes\n",
    "\n",
    "# Deep Copy - independent copy\n",
    "c = a.copy()\n",
    "c[1] = 200\n",
    "print(\"a (after c change):\", a)   # a does not change\n"
   ]
  },
  {
   "cell_type": "markdown",
   "id": "14500fe9",
   "metadata": {},
   "source": [
    "✅ Summary\n",
    "| **Category**              | **Functions / Examples**                              | **Notes**                               |\n",
    "|--------------------------|--------------------------------------------------------|------------------------------------------|\n",
    "| **Cumulative**            | `np.cumsum(arr)`, `np.cumprod(arr)`                    | Running sum/product                      |\n",
    "| **Rounding**              | `np.floor()`, `np.ceil()`, `np.round()`                | Floor ↓, Ceil ↑, Round to nearest        |\n",
    "| **Stacking**              | `np.vstack()`, `np.hstack()`, `np.column_stack()`      | Join arrays vertically/horizontally      |\n",
    "| **Splitting**             | `np.split(arr, 3)`, `np.split(arr, [2, 4])`            | Equal or index-based split               |\n",
    "| **Advanced Manipulation** | `flatten()`, `ravel()`, `rot90()`, `fliplr()`, `flipud()` | Reshape, rotate, flip                 |\n",
    "| **Copying**               | `a.view()` (shallow), `a.copy()` (deep)                | View shares data, Copy is independent    |\n",
    "\n"
   ]
  }
 ],
 "metadata": {
  "kernelspec": {
   "display_name": "Python 3",
   "language": "python",
   "name": "python3"
  },
  "language_info": {
   "codemirror_mode": {
    "name": "ipython",
    "version": 3
   },
   "file_extension": ".py",
   "mimetype": "text/x-python",
   "name": "python",
   "nbconvert_exporter": "python",
   "pygments_lexer": "ipython3",
   "version": "3.13.3"
  }
 },
 "nbformat": 4,
 "nbformat_minor": 5
}
