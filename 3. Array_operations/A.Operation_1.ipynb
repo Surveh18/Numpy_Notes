{
 "cells": [
  {
   "cell_type": "markdown",
   "id": "1b0c5fbe",
   "metadata": {},
   "source": [
    "# 📝 NumPy – Array Operations (Full Notes)"
   ]
  },
  {
   "cell_type": "markdown",
   "id": "7eb218f3",
   "metadata": {},
   "source": [
    "---🔹 1. Arithmetic Operations (Element-wise)"
   ]
  },
  {
   "cell_type": "code",
   "execution_count": 1,
   "id": "f5f39025",
   "metadata": {},
   "outputs": [
    {
     "name": "stdout",
     "output_type": "stream",
     "text": [
      "Addition: [5 7 9]\n",
      "Subtraction: [-3 -3 -3]\n",
      "Multiplication: [ 4 10 18]\n",
      "Division: [0.25 0.4  0.5 ]\n",
      "Power: [1 4 9]\n"
     ]
    }
   ],
   "source": [
    "import numpy as np\n",
    "\n",
    "a = np.array([1, 2, 3])\n",
    "b = np.array([4, 5, 6])\n",
    "\n",
    "print(\"Addition:\", a + b)         # [5 7 9]\n",
    "print(\"Subtraction:\", a - b)      # [-3 -3 -3]\n",
    "print(\"Multiplication:\", a * b)   # [ 4 10 18]\n",
    "print(\"Division:\", a / b)         # [0.25 0.4 0.5]\n",
    "print(\"Power:\", a ** 2)           # [1 4 9]\n"
   ]
  },
  {
   "cell_type": "markdown",
   "id": "4fc9da6a",
   "metadata": {},
   "source": [
    "--- 🔹 2. Scalar Operations"
   ]
  },
  {
   "cell_type": "code",
   "execution_count": 2,
   "id": "d4d6a2b6",
   "metadata": {},
   "outputs": [
    {
     "name": "stdout",
     "output_type": "stream",
     "text": [
      "[11 12 13]\n",
      "[2 4 6]\n"
     ]
    }
   ],
   "source": [
    "arr = np.array([1, 2, 3])\n",
    "\n",
    "print(arr + 10)   # [11 12 13]\n",
    "print(arr * 2)    # [2 4 6]"
   ]
  },
  {
   "cell_type": "markdown",
   "id": "686c33ba",
   "metadata": {},
   "source": [
    "---🔹 3. Comparison & Logical Operations"
   ]
  },
  {
   "cell_type": "code",
   "execution_count": 3,
   "id": "27979878",
   "metadata": {},
   "outputs": [
    {
     "name": "stdout",
     "output_type": "stream",
     "text": [
      "[False False  True  True]\n",
      "True\n",
      "True\n"
     ]
    }
   ],
   "source": [
    "a = np.array([1, 2, 3, 4])\n",
    "\n",
    "print(a > 2)       # [False False  True  True]\n",
    "print(np.any(a > 3))   # True\n",
    "print(np.all(a > 0))   # True"
   ]
  },
  {
   "cell_type": "markdown",
   "id": "11301678",
   "metadata": {},
   "source": [
    "--- 🔹 4. Matrix Operations (2D)"
   ]
  },
  {
   "cell_type": "code",
   "execution_count": 4,
   "id": "0aae4579",
   "metadata": {},
   "outputs": [
    {
     "name": "stdout",
     "output_type": "stream",
     "text": [
      "Matrix Addition:\n",
      " [[ 6  8]\n",
      " [10 12]]\n",
      "Matrix Multiplication (element-wise):\n",
      " [[ 5 12]\n",
      " [21 32]]\n",
      "Dot Product:\n",
      " [[19 22]\n",
      " [43 50]]\n"
     ]
    }
   ],
   "source": [
    "A = np.array([[1, 2],\n",
    "              [3, 4]])\n",
    "\n",
    "B = np.array([[5, 6],\n",
    "              [7, 8]])\n",
    "\n",
    "print(\"Matrix Addition:\\n\", A + B)\n",
    "print(\"Matrix Multiplication (element-wise):\\n\", A * B)\n",
    "print(\"Dot Product:\\n\", A @ B)   # OR np.dot(A, B)"
   ]
  },
  {
   "cell_type": "markdown",
   "id": "16afc3ab",
   "metadata": {},
   "source": [
    "--- 🔹 5. Broadcasting"
   ]
  },
  {
   "cell_type": "code",
   "execution_count": 5,
   "id": "47c909fc",
   "metadata": {},
   "outputs": [
    {
     "name": "stdout",
     "output_type": "stream",
     "text": [
      "[[11 22 33]\n",
      " [14 25 36]]\n"
     ]
    }
   ],
   "source": [
    "A = np.array([[1, 2, 3],\n",
    "              [4, 5, 6]])\n",
    "\n",
    "b = np.array([10, 20, 30])\n",
    "\n",
    "print(A + b)"
   ]
  },
  {
   "cell_type": "markdown",
   "id": "c0c32406",
   "metadata": {},
   "source": [
    "--- 🔹 6. Aggregate Functions"
   ]
  },
  {
   "cell_type": "code",
   "execution_count": 6,
   "id": "1382ad40",
   "metadata": {},
   "outputs": [
    {
     "name": "stdout",
     "output_type": "stream",
     "text": [
      "Sum: 10\n",
      "Mean: 2.5\n",
      "Max: 4\n",
      "Min: 1\n",
      "Std Dev: 1.118033988749895\n"
     ]
    }
   ],
   "source": [
    "arr = np.array([1, 2, 3, 4])\n",
    "\n",
    "print(\"Sum:\", arr.sum())\n",
    "print(\"Mean:\", arr.mean())\n",
    "print(\"Max:\", arr.max())\n",
    "print(\"Min:\", arr.min())\n",
    "print(\"Std Dev:\", arr.std())"
   ]
  },
  {
   "cell_type": "markdown",
   "id": "992e965a",
   "metadata": {},
   "source": [
    "✅ Summary\n",
    "| **Category**              | **Functions / Examples**                              | **Notes**                               |\n",
    "|--------------------------|--------------------------------------------------------|------------------------------------------|\n",
    "| **Arithmetic & Scalar**   | `a + b`, `a - b`, `a * b`, `a / b`, `a ** 2`, `a + 10`, `a * 2` | Element-wise operations & scalar ops     |\n",
    "| **Comparison & Logical**  | `a > 2`, `a == 3`, `np.any(a > 3)`, `np.all(a > 0)`    | Returns boolean arrays                   |\n",
    "| **Matrix Ops**            | `A + B`, `A * B`, `A @ B`, `A.T`                       | Dot product: `@` or `np.dot()`           |\n",
    "| **Broadcasting**          | `A + b`                                                | Automatically expands smaller shape      |\n",
    "| **Aggregate**             | `sum()`, `mean()`, `max()`, `min()`, `std()`           | Applies to full array or along an axis   |\n"
   ]
  }
 ],
 "metadata": {
  "kernelspec": {
   "display_name": "Python 3",
   "language": "python",
   "name": "python3"
  },
  "language_info": {
   "codemirror_mode": {
    "name": "ipython",
    "version": 3
   },
   "file_extension": ".py",
   "mimetype": "text/x-python",
   "name": "python",
   "nbconvert_exporter": "python",
   "pygments_lexer": "ipython3",
   "version": "3.13.3"
  }
 },
 "nbformat": 4,
 "nbformat_minor": 5
}
